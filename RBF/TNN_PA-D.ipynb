{
 "cells": [
  {
   "cell_type": "code",
   "execution_count": null,
   "metadata": {},
   "outputs": [],
   "source": [
    "import numpy as np\n",
    "import matplotlib.pyplot as plt\n",
    "import math"
   ]
  },
  {
   "cell_type": "code",
   "execution_count": null,
   "metadata": {},
   "outputs": [],
   "source": [
    "np.random.seed(30)"
   ]
  },
  {
   "cell_type": "code",
   "execution_count": null,
   "metadata": {},
   "outputs": [],
   "source": [
    "def parse_training_data(path):\n",
    "    with open(path, 'r') as file:\n",
    "        line = file.readline().strip()\n",
    "        line_counter = 0\n",
    "        while line:\n",
    "            line_counter += 1\n",
    "\n",
    "            if line_counter == 2: # the line contains the values of P, N, M\n",
    "                line = line[1:] # skip the # sign at the beginning of the line\n",
    "                line_segments = line.split(' ')\n",
    "                for segment in line_segments:\n",
    "                    segment = segment.strip()\n",
    "                    if segment != '':\n",
    "                        if segment[0] == 'P': # P=<P_VALUE>\n",
    "                            P = int(segment[2:])\n",
    "                        elif segment[0] == 'N': # N=<N_VALUE>\n",
    "                            N = int(segment[2:])\n",
    "                        elif segment[0] == 'M': # M=<M_VALUE>\n",
    "                            M = int(segment[2:])\n",
    "                \n",
    "                X_train = np.empty((P, N))\n",
    "                Y_train = np.empty((P, M))\n",
    "            \n",
    "            elif line_counter >= 3: # contains training data as well as desired output starting at line 3\n",
    "                # line_segments would be sth. like:\n",
    "                # ['1.0', '1.0', '1.0', '0.9']\n",
    "                # where the first N items are the values\n",
    "                # for input data dimensions and the\n",
    "                # last M items are the last layer's\n",
    "                # outputs\n",
    "\n",
    "                line_segments = line.split(' ')\n",
    "                line_segments = list(filter(lambda seg: seg != '', line_segments))\n",
    "                X_train[line_counter-3] = np.asarray(list(map(float, line_segments[:N])))\n",
    "                Y_train[line_counter-3] = np.asarray(list(map(float, line_segments[-M:])))\n",
    "                \n",
    "            line = file.readline().strip()\n",
    "    \n",
    "    return P, N, M, X_train, Y_train"
   ]
  },
  {
   "attachments": {},
   "cell_type": "markdown",
   "metadata": {},
   "source": [
    "The following function calculated the output of an RBF neuron given the input vector (also called stimulus) $x$, neuron's center $c$, and the width of the Gaussian function $s$ as follows:\n",
    "\n",
    "$$output = e^{-\\frac{||x-c||_2}{2\\cdot s^2}}$$"
   ]
  },
  {
   "cell_type": "code",
   "execution_count": null,
   "metadata": {},
   "outputs": [],
   "source": [
    "def radial_transferfunction(x, c, s):\n",
    "    '''\n",
    "    Given a pattern, center, and s value, \n",
    "    the function calculates the output of \n",
    "    the rbf neuron.\n",
    "\n",
    "    Parameters\n",
    "    ----------\n",
    "    x : input vector (stimulus)\n",
    "    c : center of the neuron\n",
    "    s : size/width of the neuron\n",
    "    '''\n",
    "    \n",
    "    e = math.e \n",
    "    distance = np.linalg.norm(x-c)\n",
    "    pw = -1 * (distance / (2*(s**2))) \n",
    "    f = e**pw\n",
    "    \n",
    "    return f"
   ]
  },
  {
   "cell_type": "code",
   "execution_count": null,
   "metadata": {},
   "outputs": [],
   "source": [
    "def calculate_output(x, C, weights, s):\n",
    "    '''\n",
    "    Given a pattern, Center and S values, \n",
    "    the function calculates the output of \n",
    "    the output layer neurons.  \n",
    "\n",
    "    Parameters\n",
    "    ----------\n",
    "    x : input vector (stimulus)\n",
    "    C : Centers of the neurons\n",
    "    weights : weights of the neurons\n",
    "              connecting the RBF layer \n",
    "              to the output layer\n",
    "    s : size/width of the neurons\n",
    "        \n",
    "    '''\n",
    "    output_dim = weights.shape[1]\n",
    "    result = []\n",
    "    out_m = np.empty((output_dim))\n",
    "    sm = 0\n",
    "    \n",
    "    \n",
    "    # calculate the output of the RBF layer\n",
    "    for i in range(len(C)): # iterate over the centers in the RBF layer\n",
    "        f = radial_transferfunction(x, C[i], s[i])\n",
    "        result.append(f)\n",
    "        \n",
    "        \n",
    "    for m in range(output_dim):\n",
    "        for k in range(len(C)): # iterate over the centers in the RBF layer\n",
    "            sm = sm + result[k]*weights[k][m]\n",
    "        out_m[m] = sm\n",
    "        sm = 0\n",
    "    \n",
    "     \n",
    "    return result, out_m"
   ]
  },
  {
   "cell_type": "code",
   "execution_count": null,
   "metadata": {},
   "outputs": [],
   "source": [
    "def update_weight(weights, y_train, predictions, p, result, eta):\n",
    "    '''\n",
    "    Given the weights, teacher values (ground truth), \n",
    "    output of the network and the pattern, this function\n",
    "    updates the weights based on the following formula: \n",
    "    delta_weight = learning rate*(teacher - output)*result\n",
    "\n",
    "    Parameters\n",
    "    ----------\n",
    "    weights : weights of the neurons\n",
    "              connecting the RBF layer \n",
    "              to the output layer\n",
    "    y_train : teacher values (ground truth)\n",
    "    predictions : output of the network\n",
    "    p : pattern number\n",
    "    result : output of the RBF layer\n",
    "    eta : learning rate\n",
    "    '''\n",
    "    \n",
    "    output_dim = weights.shape[1]\n",
    "    result_size = len(result)\n",
    "    for m in range(output_dim):\n",
    "        for k in range(result_size):\n",
    "            delta_weight = eta * (y_train[p][m] - predictions[p][m]) * result[k]\n",
    "            weights[k][m] = weights[k][m] + delta_weight\n",
    "    \n",
    "    return weights"
   ]
  },
  {
   "cell_type": "code",
   "execution_count": null,
   "metadata": {},
   "outputs": [],
   "source": [
    "def MSE(P, Y_train, predictions):\n",
    "    '''\n",
    "    Given the patterns, teacher and output values, \n",
    "    the function calculates the mean squared error\n",
    "    (MSE) for each output neuron\n",
    "\n",
    "    Parameters\n",
    "    ----------\n",
    "    P : number of patterns\n",
    "    Y_train : teacher values (ground truth)\n",
    "    predictions : output of the network\n",
    "    '''\n",
    "    \n",
    "    mean_squared_error = 0\n",
    "    for p in range(P): # iterate over all samples\n",
    "        mean_squared_error += ((Y_train[p]-predictions[p])**2) / P\n",
    "    \n",
    "    return mean_squared_error"
   ]
  },
  {
   "cell_type": "code",
   "execution_count": null,
   "metadata": {},
   "outputs": [],
   "source": [
    "path = \"./data/PA-B_training_data_03.txt\"\n",
    "P, input_dim, output_dim, X_train, Y_train = parse_training_data(path)"
   ]
  },
  {
   "cell_type": "code",
   "execution_count": null,
   "metadata": {},
   "outputs": [],
   "source": [
    "eta = 0.001 # learning rate\n",
    "EPOCHS = 10000  # Number of iterations"
   ]
  },
  {
   "cell_type": "code",
   "execution_count": null,
   "metadata": {},
   "outputs": [],
   "source": [
    "# number of RBF neurons, taking it \n",
    "# less than the number of patterns\n",
    "K = min(3, P)   \n"
   ]
  },
  {
   "cell_type": "code",
   "execution_count": null,
   "metadata": {},
   "outputs": [],
   "source": [
    "# choosing center values Ck as a \n",
    "# subset of the input patterns\n",
    "Ck = X_train[np.random.choice(X_train.shape[0], K, replace=False)]"
   ]
  },
  {
   "cell_type": "code",
   "execution_count": null,
   "metadata": {},
   "outputs": [],
   "source": [
    "# no tips are given for our choice of \n",
    "# K and P, so we are assigning values \n",
    "# to sk randomly in the range [0, 1]\n",
    "sk = np.random.random(K)"
   ]
  },
  {
   "cell_type": "code",
   "execution_count": null,
   "metadata": {},
   "outputs": [],
   "source": [
    "# weights are initialized randomly\n",
    "# in the range [-0.5, 0.5]\n",
    "weights = np.random.random((K, output_dim)) # shape: (prev_neurons, cur_neurons) 0 <=weights <=1\n",
    "weights -= 0.5 # -0.5 <= weights <= 0.5"
   ]
  },
  {
   "cell_type": "code",
   "execution_count": null,
   "metadata": {},
   "outputs": [],
   "source": [
    "mean_squared_errors_list = [] # used to track of MSE in each iteration for further plotting\n",
    "\n",
    "for epoch in range(EPOCHS):\n",
    "    predictions = np.empty((P, output_dim)) # store the output of the model for whole samples, so this can be used further to evaluate the model\n",
    "    for p in range(P): # iterate over training samples\n",
    "\n",
    "        result, out_m = calculate_output(X_train[p], Ck, weights, sk)\n",
    "        predictions[p] = out_m\n",
    "        \n",
    "        new_weights = update_weight(weights, Y_train, predictions, p, result, eta)\n",
    "        weights = new_weights\n",
    "        \n",
    "\n",
    "    mean_squared_error = MSE(P, Y_train, predictions)\n",
    "    mean_squared_error_average = np.mean(mean_squared_error) # this is used to find the avg error when the output is higher that 1 dim\n",
    "    mean_squared_errors_list.append(mean_squared_error_average)\n",
    "\n",
    "    if epoch % int(EPOCHS/10) == 0:\n",
    "        print(f'Epoch:{epoch}, MSE={mean_squared_error}, avg: {mean_squared_error_average:.4f}')\n",
    "\n"
   ]
  }
 ],
 "metadata": {
  "kernelspec": {
   "display_name": "Python 3",
   "language": "python",
   "name": "python3"
  },
  "language_info": {
   "codemirror_mode": {
    "name": "ipython",
    "version": 3
   },
   "file_extension": ".py",
   "mimetype": "text/x-python",
   "name": "python",
   "nbconvert_exporter": "python",
   "pygments_lexer": "ipython3",
   "version": "3.9.6"
  },
  "vscode": {
   "interpreter": {
    "hash": "31f2aee4e71d21fbe5cf8b01ff0e069b9275f58929596ceb00d14d90e3e16cd6"
   }
  }
 },
 "nbformat": 4,
 "nbformat_minor": 2
}
